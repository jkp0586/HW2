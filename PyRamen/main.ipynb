{
 "cells": [
  {
   "cell_type": "code",
   "execution_count": 15,
   "metadata": {
    "colab": {},
    "colab_type": "code",
    "id": "e7rAJP_9t-oT"
   },
   "outputs": [],
   "source": [
    "## PyRamen (Optional)\n",
    "\n",
    "# ![ramen.jpg](Images/ramen.jpg)\n",
    "\n",
    "## Background\n",
    "\n",
    "# Welcome to Ichiban Ramen!\n",
    "\n",
    "# Opening a ramen shop has always been your dream, and now it's finally been realized––you're closing out on your second year of sales! Like last year, you need to analyze your business's financial performance by cross-referencing your sales data with your internal menu data to figure out revenues and costs for the year.\n",
    "\n",
    "# This year, you also want to analyze how well your business did on a per-product basis (as you have several choices of ramen) in order to better understand which products are doing well, which are doing poorly, and, ultimately, which products may need to be removed or changed.\n",
    "\n",
    "# You tried doing this type of per-product analysis last year in Excel, but you were not able to keep your reports up-to-date with your current sales data. Therefore, you need to innovate. With more customers and more data to process, you'll need a tool that will allow you to automate your calculations in a manner that scales with your business.\n",
    "\n",
    "# Enter Python! Python provides a wide range of capabilities for handling data, harnessing the power of low-level Python data structures and high-level development libraries, all the while supporting the automation and scalability needs for a growing enterprise.\n",
    "\n",
    "# In this homework assignment, you will need to:\n",
    "\n",
    "# 1. [Read the Data](#Read-the-Data)\n",
    "\n",
    "# 2. [Manipulate the Data](#Manipulate-the-Data)\n",
    "\n",
    "# ---\n",
    "\n",
    "import pandas as pd\n",
    "from pathlib import Path"
   ]
  },
  {
   "cell_type": "code",
   "execution_count": 16,
   "metadata": {
    "colab": {},
    "colab_type": "code",
    "id": "v5TcxUHQuc05"
   },
   "outputs": [],
   "source": [
    "## Instructions\n",
    "\n",
    "### Read the Data\n",
    "\n",
    "# Complete the following:\n",
    "\n",
    "# * Read in `menu_data.csv` and set its contents to a separate list object. (This way, you can cross-reference your menu data with your sales data as you read in your sales data in the coming steps.)\n",
    "\n",
    "csvpath = Path(\"../PyRamen/menu_data.csv\")"
   ]
  },
  {
   "cell_type": "code",
   "execution_count": 17,
   "metadata": {
    "colab": {},
    "colab_type": "code",
    "id": "UsxCDzpFudAU"
   },
   "outputs": [],
   "source": [
    "menu_data = pd.read_csv(csvpath)"
   ]
  },
  {
   "cell_type": "code",
   "execution_count": 18,
   "metadata": {
    "colab": {
     "base_uri": "https://localhost:8080/",
     "height": 191
    },
    "colab_type": "code",
    "id": "OITGg3LMudFU",
    "outputId": "d7b22699-f118-4761-d6ff-2dd76b45db7c"
   },
   "outputs": [
    {
     "data": {
      "text/html": [
       "<div>\n",
       "<style scoped>\n",
       "    .dataframe tbody tr th:only-of-type {\n",
       "        vertical-align: middle;\n",
       "    }\n",
       "\n",
       "    .dataframe tbody tr th {\n",
       "        vertical-align: top;\n",
       "    }\n",
       "\n",
       "    .dataframe thead th {\n",
       "        text-align: right;\n",
       "    }\n",
       "</style>\n",
       "<table border=\"1\" class=\"dataframe\">\n",
       "  <thead>\n",
       "    <tr style=\"text-align: right;\">\n",
       "      <th></th>\n",
       "      <th>item</th>\n",
       "      <th>category</th>\n",
       "      <th>description</th>\n",
       "      <th>price</th>\n",
       "      <th>cost</th>\n",
       "    </tr>\n",
       "  </thead>\n",
       "  <tbody>\n",
       "    <tr>\n",
       "      <th>0</th>\n",
       "      <td>edamame</td>\n",
       "      <td>appetizers</td>\n",
       "      <td>boiled soybeans, maldon sea salt</td>\n",
       "      <td>4.0</td>\n",
       "      <td>1</td>\n",
       "    </tr>\n",
       "    <tr>\n",
       "      <th>1</th>\n",
       "      <td>house salad</td>\n",
       "      <td>appetizers</td>\n",
       "      <td>mixed greens, cherry tomatoes, cucumber, house...</td>\n",
       "      <td>4.0</td>\n",
       "      <td>2</td>\n",
       "    </tr>\n",
       "    <tr>\n",
       "      <th>2</th>\n",
       "      <td>cucumber sunomono salad</td>\n",
       "      <td>appetizers</td>\n",
       "      <td>cucumber, ponzu dressing, pickled ginger sprou...</td>\n",
       "      <td>5.0</td>\n",
       "      <td>2</td>\n",
       "    </tr>\n",
       "    <tr>\n",
       "      <th>3</th>\n",
       "      <td>hiyashi wakame seaweed salad</td>\n",
       "      <td>appetizers</td>\n",
       "      <td>sweet soy-marinated wakame seaweed threads, pi...</td>\n",
       "      <td>5.0</td>\n",
       "      <td>2</td>\n",
       "    </tr>\n",
       "    <tr>\n",
       "      <th>4</th>\n",
       "      <td>agedashi tofu</td>\n",
       "      <td>appetizers</td>\n",
       "      <td>tempura battered tofu, katsuobushi, tsuyu brot...</td>\n",
       "      <td>5.0</td>\n",
       "      <td>2</td>\n",
       "    </tr>\n",
       "  </tbody>\n",
       "</table>\n",
       "</div>"
      ],
      "text/plain": [
       "                           item    category  \\\n",
       "0                       edamame  appetizers   \n",
       "1                   house salad  appetizers   \n",
       "2       cucumber sunomono salad  appetizers   \n",
       "3  hiyashi wakame seaweed salad  appetizers   \n",
       "4                 agedashi tofu  appetizers   \n",
       "\n",
       "                                         description  price  cost  \n",
       "0                   boiled soybeans, maldon sea salt    4.0     1  \n",
       "1  mixed greens, cherry tomatoes, cucumber, house...    4.0     2  \n",
       "2  cucumber, ponzu dressing, pickled ginger sprou...    5.0     2  \n",
       "3  sweet soy-marinated wakame seaweed threads, pi...    5.0     2  \n",
       "4  tempura battered tofu, katsuobushi, tsuyu brot...    5.0     2  "
      ]
     },
     "execution_count": 18,
     "metadata": {},
     "output_type": "execute_result"
    }
   ],
   "source": [
    "menu_data.head()"
   ]
  },
  {
   "cell_type": "code",
   "execution_count": 19,
   "metadata": {
    "colab": {},
    "colab_type": "code",
    "id": "jawqSXh9udH9"
   },
   "outputs": [],
   "source": [
    "# * Initialize an empty `menu` list object to hold the contents of `menu_data.csv`.\n",
    "\n",
    "menu = [menu_data]"
   ]
  },
  {
   "cell_type": "code",
   "execution_count": 20,
   "metadata": {
    "colab": {
     "base_uri": "https://localhost:8080/",
     "height": 586
    },
    "colab_type": "code",
    "id": "zz_c6X_KudKW",
    "outputId": "7d1e7e40-deaa-4025-d1f7-e1a809f2421b"
   },
   "outputs": [
    {
     "name": "stdout",
     "output_type": "stream",
     "text": [
      "[                                              item    category  \\\n",
      "0                                          edamame  appetizers   \n",
      "1                                      house salad  appetizers   \n",
      "2                          cucumber sunomono salad  appetizers   \n",
      "3                     hiyashi wakame seaweed salad  appetizers   \n",
      "4                                    agedashi tofu  appetizers   \n",
      "5                                   hiyayakko tofu  appetizers   \n",
      "6                                   pork floss bao  appetizers   \n",
      "7                                       kakuni bao  appetizers   \n",
      "8                      edamame fried gyoza (vegan)  appetizers   \n",
      "9                                      fried gyoza  appetizers   \n",
      "10                                        takoyaki  appetizers   \n",
      "11                             rock shrimp tempura  appetizers   \n",
      "12                         soft-shell crab tempura  appetizers   \n",
      "13                            ebi katsu shrimp bao  appetizers   \n",
      "14                                    nagomi shoyu      entree   \n",
      "15                                      shio ramen      entree   \n",
      "16                                spicy miso ramen      entree   \n",
      "17                           vegetarian spicy miso      entree   \n",
      "18                                 miso crab ramen      entree   \n",
      "19                      soft-shell miso crab ramen      entree   \n",
      "20                               tori paitan ramen      entree   \n",
      "21                                  tonkotsu ramen      entree   \n",
      "22                     burnt garlic tonkotsu ramen      entree   \n",
      "23  vegetarian curry + king trumpet mushroom ramen      entree   \n",
      "24                            truffle butter ramen      entree   \n",
      "25                                       green tea      drinks   \n",
      "26                                            coke      drinks   \n",
      "27                          black sesame ice cream    desserts   \n",
      "28                                matcha ice cream    desserts   \n",
      "29                           mango mochi ice cream    desserts   \n",
      "30                      strawberry mochi ice cream    desserts   \n",
      "31                       black sesame creme brulee    desserts   \n",
      "\n",
      "                                          description  price  cost  \n",
      "0                    boiled soybeans, maldon sea salt    4.0     1  \n",
      "1   mixed greens, cherry tomatoes, cucumber, house...    4.0     2  \n",
      "2   cucumber, ponzu dressing, pickled ginger sprou...    5.0     2  \n",
      "3   sweet soy-marinated wakame seaweed threads, pi...    5.0     2  \n",
      "4   tempura battered tofu, katsuobushi, tsuyu brot...    5.0     2  \n",
      "5   chilled soft tofu, house shoyu, katsuobushi, g...    5.0     2  \n",
      "6   two steamed buns, minced lean slow braised nim...    4.0     2  \n",
      "7   two steamed buns, chopped fatty slow braised n...    6.0     3  \n",
      "8   six crispy fried edamame and cabbage pot stick...    6.0     3  \n",
      "9   six cripsy fried pork and vegetable pot sticke...    6.0     6  \n",
      "10  six octopus-filled fried fritters, kewpie mayo...    6.0     3  \n",
      "11  deep fried tempura battered rock shrimp, srira...    6.0     3  \n",
      "12  single deep fried soft-shell crab, tsuyu dippi...    6.0     3  \n",
      "13  two steamed buns, panko-crusted fried shrimp p...    6.0     3  \n",
      "14  shoyu seasoned clear double stock (organic chi...   11.0     5  \n",
      "15  sea salt seasoned clear double stock (organic ...   11.0     5  \n",
      "16  house togarashi miso blend + niman ranch pork ...   12.0     5  \n",
      "17  house togarashi miso blend + vegan dashi; temp...   12.0     5  \n",
      "18  house miso crab blend + vegan dashi; slow brai...   12.0     6  \n",
      "19  house miso crab blend + vegan dashi; fried who...   14.0     7  \n",
      "20  rich, shoyu seasoned double stock (organic chi...   13.0     6  \n",
      "21  rich, shoyi seasoned niman ranch pork bone sto...   13.0     6  \n",
      "22  rich, shoyi and burnt garlic seasoned niman ra...   14.0     6  \n",
      "23  house curry blend + vegan dashi; fried king tr...   13.0     7  \n",
      "24  rich, shoyu seasoned niman ranch prok bone sto...   14.0     7  \n",
      "25                                          green tea    2.5     1  \n",
      "26                                     Coca Cola soda    2.0     1  \n",
      "27  house-made black sesame ice cream, valrhona ch...    5.0     2  \n",
      "28  house-made matcha ice cream, white chocolate p...    5.0     2  \n",
      "29  two rice-cake bonbons filled with strawberry i...    5.0     2  \n",
      "30  two rice-cake bonbons filled with strawberry i...    5.0     2  \n",
      "31  house made black sesame infused creme brulee; ...    6.0     3  ]\n"
     ]
    }
   ],
   "source": [
    "print(menu)"
   ]
  },
  {
   "cell_type": "code",
   "execution_count": 43,
   "metadata": {
    "colab": {
     "base_uri": "https://localhost:8080/",
     "height": 570
    },
    "colab_type": "code",
    "id": "odIVzbfLudDK",
    "outputId": "61b967df-e02f-4eb6-ea28-aa09b2a795eb"
   },
   "outputs": [
    {
     "name": "stdout",
     "output_type": "stream",
     "text": [
      "Column names are: item,category,description,price,cost\n"
     ]
    }
   ],
   "source": [
    "# Use a `with` statement and open the `menu_data.csv` by using its file path.\n",
    "#  Use the `reader` function from the `csv` library to begin reading `menu_data.csv`.\n",
    "\n",
    "with open(\"../PyRamen/menu_data.csv\") as csv_file:\n",
    "    csv_reader = csv.reader(csv_file, delimiter=',')\n",
    "    line_count = 0\n",
    "    for row in csv_reader:\n",
    "        if line_count == 0:\n",
    "            print(f'Column names are: {\",\".join(row)}')\n",
    "            line_count += 1    "
   ]
  },
  {
   "cell_type": "code",
   "execution_count": null,
   "metadata": {},
   "outputs": [],
   "source": []
  }
 ],
 "metadata": {
  "colab": {
   "name": "Untitled1.ipynb",
   "provenance": []
  },
  "kernelspec": {
   "display_name": "Python 3",
   "language": "python",
   "name": "python3"
  },
  "language_info": {
   "codemirror_mode": {
    "name": "ipython",
    "version": 3
   },
   "file_extension": ".py",
   "mimetype": "text/x-python",
   "name": "python",
   "nbconvert_exporter": "python",
   "pygments_lexer": "ipython3",
   "version": "3.7.7"
  }
 },
 "nbformat": 4,
 "nbformat_minor": 4
}
